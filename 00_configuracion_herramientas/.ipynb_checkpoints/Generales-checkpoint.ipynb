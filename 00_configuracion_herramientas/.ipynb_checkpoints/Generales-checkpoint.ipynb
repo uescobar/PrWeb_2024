{
 "cells": [
  {
   "cell_type": "markdown",
   "id": "10cd86a5",
   "metadata": {},
   "source": [
    "# Seccion html y css\n",
    "\n",
    "Para el seguimiento del curso estaremos usando Visual Studio Code, para lo cual realizaremos la descarga desde la  direccion:\n",
    "\n",
    "[url de descarga de Visual Studio Code](https://code.visualstudio.com/)\n",
    "\n",
    "Despues de que lo haya descargado e instalado, debera instalar los siguientes plugins usando el boton de extensiones.\n",
    "\n",
    "Los plugins a instalar son:\n",
    "\n",
    "- ***Live Server*** de Ritwick Dey\n",
    "- ***Monokai*** Theme "
   ]
  },
  {
   "cell_type": "markdown",
   "id": "80b9779d",
   "metadata": {},
   "source": [
    "# Seccion sass y gulp\n",
    "\n",
    "Para el desarrolo de la seccion de SASS y Gulp deberan instalar node\n",
    "\n",
    "\n",
    "## Linux\n",
    "\n",
    "El codigo debe ejecutarse en la terminal o consola\n",
    "\n",
    "Actualizar node a la ultima version\n",
    "\n",
    "```\n",
    "sudo npm install -g n\n",
    "sudo n lts\n",
    "```\n",
    "\n",
    "sudo n latest seria el comando para la opcion la la vesion latest\n",
    "\n",
    "```\n",
    "sudo n prune   # remover versiones previas\n",
    "sudo npm install -g npm@latest\n",
    "```\n",
    "\n",
    "Instalar las dependencias locales de desarrollo\n",
    "\n",
    "```\n",
    "npm i --save-dev gulp-sass node-sass dart-sass\n",
    "npm i --save-dev sass\n",
    "```\n",
    "\n",
    "\n",
    "## Windows\n",
    "\n",
    "\n",
    "Realizar la instalacion de acuerdo a los siguientes videos y en el orden en que se indican:\n",
    "\n",
    "1. [Instalacion Chocolatey](https://drive.google.com/file/d/1Ebec6g96jDuCnSjv2NAniKMWIue2aFSG/view?usp=sharing)\n",
    "2. [Instalacion Node LTS](https://drive.google.com/file/d/14c88eiUuYrq4s_1KrJahx24ws-fbFp28/view?usp=sharing)\n",
    "\n",
    "\n",
    "Si todo ha sido instalado de forma correcta, entonces puede navegar a la pagina del proyecto para mayor informaicon. \n",
    "\n",
    "[Pagina del proyecto GULP](http://gulpjs.com)  ver la sección de API gulp es una api para comenzar a escribir tareas pero se iran agregando apis segun sea necesario\n"
   ]
  },
  {
   "cell_type": "code",
   "execution_count": null,
   "id": "0910ab91",
   "metadata": {},
   "outputs": [],
   "source": []
  }
 ],
 "metadata": {
  "kernelspec": {
   "display_name": "Python 3 (ipykernel)",
   "language": "python",
   "name": "python3"
  },
  "language_info": {
   "codemirror_mode": {
    "name": "ipython",
    "version": 3
   },
   "file_extension": ".py",
   "mimetype": "text/x-python",
   "name": "python",
   "nbconvert_exporter": "python",
   "pygments_lexer": "ipython3",
   "version": "3.9.7"
  }
 },
 "nbformat": 4,
 "nbformat_minor": 5
}

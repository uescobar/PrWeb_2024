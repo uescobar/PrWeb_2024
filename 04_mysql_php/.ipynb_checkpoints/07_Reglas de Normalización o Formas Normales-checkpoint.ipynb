{
 "cells": [
  {
   "cell_type": "markdown",
   "id": "4a3fa8eb",
   "metadata": {},
   "source": [
    "# Normalización\n",
    "\n",
    "La normalización tiene como objetivo optimizar la base de datos siguiendo ciertas reglas que ya están definidas.\n",
    "\n",
    "Existen muchas reglas, pero las más importantes son: 1NF, 2NF y 3NF.\n",
    "\n",
    "Y es algo que se debe de hacer en todas las bases de datos."
   ]
  },
  {
   "cell_type": "markdown",
   "id": "195e6ec7",
   "metadata": {},
   "source": [
    "## Primera Forma Normal\n",
    "\n",
    "Cada columna debe tener solo 1 valor y no debe de haber grupos repetidos.\n",
    "\n",
    "Considere la siguiente consulta:\n",
    "\n",
    "`SELECT id, nombre, servicios FROM reservaciones WHERE id IN (1,2,3,4,5);`\n",
    "***\n",
    "```\n",
    "mysql> SELECT id, nombre, servicios FROM reservaciones WHERE id IN (1,2,3,4,5);\n",
    "+----+---------+-----------------------------------------+\n",
    "| id | nombre  | servicios                               |\n",
    "+----+---------+-----------------------------------------+\n",
    "|  1 | Juan    | Corte de Cabello Adulto, Corte de Barba |\n",
    "|  2 | Antonio | Corte de Cabello Niño                   |\n",
    "|  3 | Pedro   | Corte de Cabello Adulto                 |\n",
    "|  4 | Mireya  | Peinado Mujer                           |\n",
    "|  5 | Jose    | Peinado Hombre                          |\n",
    "+----+---------+-----------------------------------------+\n",
    "5 rows in set (0.01 sec)\n",
    "\n",
    "```\n",
    "***\n",
    "\n",
    "El registro **|  1 | Juan    | Corte de Cabello Adulto, Corte de Barba |** no cumple con la primera forma normal en la columna servicios.\n",
    "\n",
    "Para poder solventar la separación de los servicios, se podría crear otra tabla en donde cada registro haga referencia al id de cliente.\n",
    "\n",
    "\n",
    "***\n",
    "```\n",
    "+----+---------+\n",
    "| id | nombre  |\n",
    "+----+---------+\n",
    "|  1 | Juan    |\n",
    "|  2 | Antonio |\n",
    "|  3 | Pedro   |\n",
    "|  4 | Mireya  |\n",
    "|  5 | Jose    |\n",
    "+----+---------+\n",
    "\n",
    "+----+---------+-------------------------------+\n",
    "| servicios                               | id |\n",
    "+----+---------+-------------------------------+\n",
    "| Corte de Cabello Adulto, Corte de Barba |  1 |\n",
    "| Corte de Barba                          |  1 |\n",
    "| Corte de Cabello Niño                   |  2 |\n",
    "| Corte de Cabello Adulto                 |  3 |\n",
    "| Peinado Mujer                           |  4 |\n",
    "| Peinado Hombre                          |  5 |\n",
    "+----+---------+-------------------------------+\n",
    "\n",
    "```\n",
    "***"
   ]
  }
 ],
 "metadata": {
  "kernelspec": {
   "display_name": "Python 3 (ipykernel)",
   "language": "python",
   "name": "python3"
  },
  "language_info": {
   "codemirror_mode": {
    "name": "ipython",
    "version": 3
   },
   "file_extension": ".py",
   "mimetype": "text/x-python",
   "name": "python",
   "nbconvert_exporter": "python",
   "pygments_lexer": "ipython3",
   "version": "3.9.7"
  }
 },
 "nbformat": 4,
 "nbformat_minor": 5
}

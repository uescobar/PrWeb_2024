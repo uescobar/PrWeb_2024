{
 "cells": [
  {
   "cell_type": "markdown",
   "id": "b86ab80c",
   "metadata": {},
   "source": [
    "# Instalar MySQL Stand Alone\n",
    "\n",
    "Instalar el servidor MySQL"
   ]
  },
  {
   "cell_type": "markdown",
   "id": "0b72d30d",
   "metadata": {},
   "source": [
    "`sudo apt install mariadb-server`"
   ]
  },
  {
   "cell_type": "markdown",
   "id": "d6681d93",
   "metadata": {},
   "source": [
    "Realizamos la configuracion del sistema, ya que la instalacion por defecto es insegura"
   ]
  },
  {
   "cell_type": "markdown",
   "id": "c28fe915",
   "metadata": {},
   "source": [
    "`sudo mysql_secure_installation`"
   ]
  },
  {
   "cell_type": "markdown",
   "id": "d4ff1fd3",
   "metadata": {},
   "source": [
    "***\n",
    "```\n",
    "NOTE: RUNNING ALL PARTS OF THIS SCRIPT IS RECOMMENDED FOR ALL MariaDB\n",
    "      SERVERS IN PRODUCTION USE!  PLEASE READ EACH STEP CAREFULLY!\n",
    "\n",
    "In order to log into MariaDB to secure it, we'll need the current\n",
    "password for the root user. If you've just installed MariaDB, and\n",
    "haven't set the root password yet, you should just press enter here.\n",
    "\n",
    "Enter current password for root (enter for none): \n",
    "OK, successfully used password, moving on...\n",
    "\n",
    "Setting the root password or using the unix_socket ensures that nobody\n",
    "can log into the MariaDB root user without the proper authorisation.\n",
    "\n",
    "You already have your root account protected, so you can safely answer 'n'.\n",
    "\n",
    "Switch to unix_socket authentication [Y/n] Y\n",
    "Enabled successfully!\n",
    "Reloading privilege tables..\n",
    " ... Success!\n",
    "\n",
    "\n",
    "You already have your root account protected, so you can safely answer 'n'.\n",
    "\n",
    "Change the root password? [Y/n] Y\n",
    "New password: \n",
    "Re-enter new password: \n",
    "Password updated successfully!\n",
    "Reloading privilege tables..\n",
    " ... Success!\n",
    "\n",
    "\n",
    "By default, a MariaDB installation has an anonymous user, allowing anyone\n",
    "to log into MariaDB without having to have a user account created for\n",
    "them.  This is intended only for testing, and to make the installation\n",
    "go a bit smoother.  You should remove them before moving into a\n",
    "production environment.\n",
    "\n",
    "Remove anonymous users? [Y/n] Y\n",
    " ... Success!\n",
    "\n",
    "Normally, root should only be allowed to connect from 'localhost'.  This\n",
    "ensures that someone cannot guess at the root password from the network.\n",
    "\n",
    "Disallow root login remotely? [Y/n] Y\n",
    " ... Success!\n",
    "\n",
    "By default, MariaDB comes with a database named 'test' that anyone can\n",
    "access.  This is also intended only for testing, and should be removed\n",
    "before moving into a production environment.\n",
    "\n",
    "Remove test database and access to it? [Y/n] Y\n",
    " - Dropping test database...\n",
    " ... Success!\n",
    " - Removing privileges on test database...\n",
    " ... Success!\n",
    "\n",
    "Reloading the privilege tables will ensure that all changes made so far\n",
    "will take effect immediately.\n",
    "\n",
    "Reload privilege tables now? [Y/n] Y\n",
    " ... Success!\n",
    "\n",
    "Cleaning up...\n",
    "\n",
    "All done!  If you've completed all of the above steps, your MariaDB\n",
    "installation should now be secure.\n",
    "\n",
    "Thanks for using MariaDB!\n",
    "\n",
    "```\n",
    "***"
   ]
  },
  {
   "cell_type": "markdown",
   "id": "d041742f",
   "metadata": {},
   "source": [
    "Ahora se configura para que se inicie de forma automatica el servicio cada vez que inicie la maquina"
   ]
  },
  {
   "cell_type": "markdown",
   "id": "88be1e5b",
   "metadata": {},
   "source": [
    "`sudo systemctl enable mariadb`"
   ]
  },
  {
   "cell_type": "markdown",
   "id": "94258934",
   "metadata": {},
   "source": [
    "***\n",
    "```\n",
    "Synchronizing state of mariadb.service with SysV service script with /lib/systemd/systemd-sysv-install.\n",
    "Executing: /lib/systemd/systemd-sysv-install enable mariadb\n",
    "```\n",
    "***"
   ]
  },
  {
   "cell_type": "markdown",
   "id": "ea1a29e4",
   "metadata": {},
   "source": [
    "`sudo systemctl start mariadb`"
   ]
  },
  {
   "cell_type": "markdown",
   "id": "ed822c01",
   "metadata": {},
   "source": [
    "Ahora nos logueamos al MySQL"
   ]
  },
  {
   "cell_type": "markdown",
   "id": "f61031fc",
   "metadata": {},
   "source": [
    "`mysql -h 127.0.0.1 -P 3306 -u root -p`"
   ]
  }
 ],
 "metadata": {
  "kernelspec": {
   "display_name": "Python 3 (ipykernel)",
   "language": "python",
   "name": "python3"
  },
  "language_info": {
   "codemirror_mode": {
    "name": "ipython",
    "version": 3
   },
   "file_extension": ".py",
   "mimetype": "text/x-python",
   "name": "python",
   "nbconvert_exporter": "python",
   "pygments_lexer": "ipython3",
   "version": "3.9.7"
  }
 },
 "nbformat": 4,
 "nbformat_minor": 5
}
